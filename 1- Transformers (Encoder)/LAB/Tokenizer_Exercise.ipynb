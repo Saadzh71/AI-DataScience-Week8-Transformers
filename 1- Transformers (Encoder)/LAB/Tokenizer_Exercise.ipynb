{
 "cells": [
  {
   "cell_type": "markdown",
   "id": "5e090c3c",
   "metadata": {},
   "source": [
    "# Tokenization Exercise"
   ]
  },
  {
   "cell_type": "markdown",
   "id": "930c0a94",
   "metadata": {},
   "source": [
    "### Sample Text:\n",
    "```python\n",
    "sample_text = \"Artificial Intelligence is revolutionizing the world of technology.\"\n",
    "```"
   ]
  },
  {
   "cell_type": "markdown",
   "id": "d7460a21",
   "metadata": {},
   "source": [
    "## 1. Character Tokenization"
   ]
  },
  {
   "cell_type": "markdown",
   "id": "9eb2d643",
   "metadata": {},
   "source": [
    "Tokenize the sample text into individual characters.\n",
    "\n",
    "Write your implementation below:"
   ]
  },
  {
   "cell_type": "code",
   "execution_count": null,
   "id": "275d764f",
   "metadata": {},
   "outputs": [],
   "source": []
  },
  {
   "cell_type": "markdown",
   "id": "0a3a922a",
   "metadata": {},
   "source": [
    "## 2. Word Tokenization"
   ]
  },
  {
   "cell_type": "markdown",
   "id": "c2c596b3",
   "metadata": {},
   "source": [
    "Tokenize the sample text into words using the `nltk` library.\n",
    "\n",
    "Write your implementation below:"
   ]
  },
  {
   "cell_type": "code",
   "execution_count": null,
   "id": "d12be75f",
   "metadata": {},
   "outputs": [],
   "source": []
  },
  {
   "cell_type": "markdown",
   "id": "86fc94db",
   "metadata": {},
   "source": [
    "## 3. Sentence Tokenization"
   ]
  },
  {
   "cell_type": "markdown",
   "id": "ae693c20",
   "metadata": {},
   "source": [
    "Tokenize the following paragraph into sentences:\n",
    "```python\n",
    "paragraph = \"Tokenization is essential. It breaks text into meaningful units. This allows for easier processing.\"\n",
    "```\n",
    "\n",
    "Use the `nltk` library for sentence tokenization. Write your implementation below:"
   ]
  },
  {
   "cell_type": "code",
   "execution_count": null,
   "id": "e5243859",
   "metadata": {},
   "outputs": [],
   "source": []
  },
  {
   "cell_type": "markdown",
   "id": "7739f726",
   "metadata": {},
   "source": [
    "## 4. Byte Pair Encoding (BPE)"
   ]
  },
  {
   "cell_type": "markdown",
   "id": "3a016010",
   "metadata": {},
   "source": [
    "Use the `tokenizers` library to apply Byte Pair Encoding (BPE) to the sample text.\n",
    "\n",
    "Write your implementation below:"
   ]
  },
  {
   "cell_type": "code",
   "execution_count": null,
   "id": "abfd6076",
   "metadata": {},
   "outputs": [],
   "source": []
  }
 ],
 "metadata": {
  "language_info": {
   "name": "python"
  }
 },
 "nbformat": 4,
 "nbformat_minor": 5
}

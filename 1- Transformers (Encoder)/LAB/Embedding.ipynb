{
  "nbformat": 4,
  "nbformat_minor": 0,
  "metadata": {
    "colab": {
      "provenance": []
    },
    "kernelspec": {
      "name": "python3",
      "display_name": "Python 3"
    },
    "language_info": {
      "name": "python"
    }
  },
  "cells": [
    {
      "cell_type": "markdown",
      "source": [
        "# Embedding Tutorial"
      ],
      "metadata": {
        "id": "-2sSibmBpt-l"
      }
    },
    {
      "cell_type": "markdown",
      "source": [
        "Word2Vec is a popular algorithm developed by Google to create word embeddings from a large corpus of text. Word embeddings represent words as vectors in a continuous vector space, capturing semantic meanings such that words with similar meanings have vectors that are closer together. This tutorial will guide you through implementing Word2Vec using Python and the Gensim library.\n",
        "## 1. Installing Required Libraries"
      ],
      "metadata": {
        "id": "FQdeaAcIgD-t"
      }
    },
    {
      "cell_type": "markdown",
      "source": [
        "Before diving into the code, ensure that you have the necessary libraries installed. You'll need:\n",
        "\n",
        "Gensim: For training the Word2Vec model.\n",
        "NLTK: For text preprocessing, like tokenizing words."
      ],
      "metadata": {
        "id": "2Sy_HJsogJ9_"
      }
    },
    {
      "cell_type": "code",
      "execution_count": 1,
      "metadata": {
        "colab": {
          "base_uri": "https://localhost:8080/"
        },
        "id": "RHa-pO-seehc",
        "outputId": "bf9cebb1-8942-40d7-d8da-7393a2485c08"
      },
      "outputs": [
        {
          "output_type": "stream",
          "name": "stdout",
          "text": [
            "Requirement already satisfied: gensim in /usr/local/lib/python3.10/dist-packages (4.3.3)\n",
            "Requirement already satisfied: nltk in /usr/local/lib/python3.10/dist-packages (3.8.1)\n",
            "Requirement already satisfied: numpy<2.0,>=1.18.5 in /usr/local/lib/python3.10/dist-packages (from gensim) (1.26.4)\n",
            "Requirement already satisfied: scipy<1.14.0,>=1.7.0 in /usr/local/lib/python3.10/dist-packages (from gensim) (1.13.1)\n",
            "Requirement already satisfied: smart-open>=1.8.1 in /usr/local/lib/python3.10/dist-packages (from gensim) (7.0.4)\n",
            "Requirement already satisfied: click in /usr/local/lib/python3.10/dist-packages (from nltk) (8.1.7)\n",
            "Requirement already satisfied: joblib in /usr/local/lib/python3.10/dist-packages (from nltk) (1.4.2)\n",
            "Requirement already satisfied: regex>=2021.8.3 in /usr/local/lib/python3.10/dist-packages (from nltk) (2024.5.15)\n",
            "Requirement already satisfied: tqdm in /usr/local/lib/python3.10/dist-packages (from nltk) (4.66.5)\n",
            "Requirement already satisfied: wrapt in /usr/local/lib/python3.10/dist-packages (from smart-open>=1.8.1->gensim) (1.16.0)\n"
          ]
        }
      ],
      "source": [
        "!pip install gensim nltk"
      ]
    },
    {
      "cell_type": "markdown",
      "source": [
        "## 2. Understanding the Word2Vec Algorithm"
      ],
      "metadata": {
        "id": "02Bcl4_-gMtQ"
      }
    },
    {
      "cell_type": "markdown",
      "source": [
        "Word2Vec comes in two main models:\n",
        "\n",
        "* Skip-Gram Model: It predicts the context (surrounding words) given the target word.\n",
        "* CBOW (Continuous Bag of Words): It predicts the target word from its context.\n",
        "\n",
        "Both models aim to create word embeddings where the relationship between words is preserved based on their usage in the text."
      ],
      "metadata": {
        "id": "c4WzfjSugR8U"
      }
    },
    {
      "cell_type": "markdown",
      "source": [
        "## 3. Loading and Preprocessing Data"
      ],
      "metadata": {
        "id": "pOb01kJXgXLs"
      }
    },
    {
      "cell_type": "markdown",
      "source": [
        "You’ll need a text corpus to train the Word2Vec model. For this tutorial, let’s use the NLTK corpus \"Gutenberg,\" which contains several books."
      ],
      "metadata": {
        "id": "lYGyOeWWgZRC"
      }
    },
    {
      "cell_type": "code",
      "source": [
        "import nltk\n",
        "from nltk.corpus import gutenberg\n",
        "from nltk.tokenize import word_tokenize\n",
        "nltk.download('gutenberg')\n",
        "nltk.download('punkt')\n",
        "\n",
        "# Load the corpus (Alice in Wonderland for this example)\n",
        "alice_text = gutenberg.raw('carroll-alice.txt')\n",
        "\n",
        "# Tokenize the text into sentences\n",
        "sentences = nltk.sent_tokenize(alice_text)\n",
        "\n",
        "# Tokenize sentences into words\n",
        "tokenized_sentences = [word_tokenize(sentence.lower()) for sentence in sentences]\n",
        "\n",
        "# Preview a tokenized sentence\n",
        "print(tokenized_sentences[0])"
      ],
      "metadata": {
        "colab": {
          "base_uri": "https://localhost:8080/"
        },
        "id": "rsCf64WgfQqm",
        "outputId": "dcd7c68a-c83c-43c3-9338-548bcd4da150"
      },
      "execution_count": 2,
      "outputs": [
        {
          "output_type": "stream",
          "name": "stderr",
          "text": [
            "[nltk_data] Downloading package gutenberg to /root/nltk_data...\n",
            "[nltk_data]   Unzipping corpora/gutenberg.zip.\n",
            "[nltk_data] Downloading package punkt to /root/nltk_data...\n",
            "[nltk_data]   Unzipping tokenizers/punkt.zip.\n"
          ]
        },
        {
          "output_type": "stream",
          "name": "stdout",
          "text": [
            "['[', 'alice', \"'s\", 'adventures', 'in', 'wonderland', 'by', 'lewis', 'carroll', '1865', ']', 'chapter', 'i', '.']\n"
          ]
        }
      ]
    },
    {
      "cell_type": "markdown",
      "source": [
        "## 4. Training a Word2Vec Model"
      ],
      "metadata": {
        "id": "MPxtb0wYgdwP"
      }
    },
    {
      "cell_type": "markdown",
      "source": [
        "Gensim provides an easy-to-use Word2Vec implementation. To train a model, you can use the following steps:"
      ],
      "metadata": {
        "id": "ZytFW8pZggAl"
      }
    },
    {
      "cell_type": "code",
      "source": [
        "from gensim.models import Word2Vec\n",
        "\n",
        "# Train a Word2Vec model\n",
        "model = Word2Vec(sentences=tokenized_sentences, vector_size=100, window=5, min_count=2, workers=4, sg=0)\n",
        "\n",
        "# Summary of the model\n",
        "print(model)"
      ],
      "metadata": {
        "colab": {
          "base_uri": "https://localhost:8080/"
        },
        "id": "hzidvA8efSno",
        "outputId": "15d50bad-8477-414d-f42d-f9e0c39fc413"
      },
      "execution_count": 3,
      "outputs": [
        {
          "output_type": "stream",
          "name": "stdout",
          "text": [
            "Word2Vec<vocab=1548, vector_size=100, alpha=0.025>\n"
          ]
        }
      ]
    },
    {
      "cell_type": "markdown",
      "source": [
        "Parameters:\n",
        "\n",
        "* `sentences`: Tokenized sentences (list of lists of words).\n",
        "* `vector_size`: Dimensionality of word embeddings.\n",
        "* `window`: Maximum distance between the current and predicted word.\n",
        "* `min_count`: Ignores all words with a frequency lower than this.\n",
        "* `workers`: Number of CPU cores to use during training.\n",
        "* `sg`: Skip-gram (`sg=1`) or CBOW (`sg=0`)."
      ],
      "metadata": {
        "id": "ypaEQepGgjp5"
      }
    },
    {
      "cell_type": "markdown",
      "source": [
        "## 5. Exploring the Model"
      ],
      "metadata": {
        "id": "oxoOv2MhgxB7"
      }
    },
    {
      "cell_type": "markdown",
      "source": [
        "Once your model is trained, you can explore word relationships. The following functions are useful for finding word similarities and associations."
      ],
      "metadata": {
        "id": "DuNyRHsygzaq"
      }
    },
    {
      "cell_type": "markdown",
      "source": [
        "### a. Finding Similar Words\n",
        "You can find words similar to a given word using the `most_similar` method:"
      ],
      "metadata": {
        "id": "8zN5hwUQg1fQ"
      }
    },
    {
      "cell_type": "code",
      "source": [
        "similar_words = model.wv.most_similar('alice', topn=5)\n",
        "print(similar_words)"
      ],
      "metadata": {
        "colab": {
          "base_uri": "https://localhost:8080/"
        },
        "id": "iE-K90JjfT7j",
        "outputId": "69019321-6776-4a45-e8ce-dce6ad511a6a"
      },
      "execution_count": 4,
      "outputs": [
        {
          "output_type": "stream",
          "name": "stdout",
          "text": [
            "[('and', 0.9997000098228455), (':', 0.9996814727783203), (',', 0.9996623992919922), ('or', 0.9996567368507385), ('to', 0.9996470212936401)]\n"
          ]
        }
      ]
    },
    {
      "cell_type": "markdown",
      "source": [
        "This will return the top 5 words most similar to 'alice' based on the trained embeddings."
      ],
      "metadata": {
        "id": "_fZ4arLog5oB"
      }
    },
    {
      "cell_type": "markdown",
      "source": [
        "### b. Word Similarity"
      ],
      "metadata": {
        "id": "kaUUzccLg7ay"
      }
    },
    {
      "cell_type": "markdown",
      "source": [
        "You can measure how similar two words are using the `similarity` method:"
      ],
      "metadata": {
        "id": "xS-UQiQPg9u_"
      }
    },
    {
      "cell_type": "code",
      "source": [
        "similarity = model.wv.similarity('alice', 'rabbit')\n",
        "print(f\"Similarity between 'alice' and 'rabbit': {similarity}\")"
      ],
      "metadata": {
        "colab": {
          "base_uri": "https://localhost:8080/"
        },
        "id": "jHBKEgS7fW-K",
        "outputId": "cb4a99da-b96e-41ee-dc6a-e5149d0f4d92"
      },
      "execution_count": 5,
      "outputs": [
        {
          "output_type": "stream",
          "name": "stdout",
          "text": [
            "Similarity between 'alice' and 'rabbit': 0.9990416169166565\n"
          ]
        }
      ]
    },
    {
      "cell_type": "markdown",
      "source": [
        "### c. Visualizing Word Vectors"
      ],
      "metadata": {
        "id": "4hg1dVIchFKK"
      }
    },
    {
      "cell_type": "markdown",
      "source": [
        "You can visualize word vectors in 2D space using techniques like PCA (Principal Component Analysis) or t-SNE. Here’s how you can visualize word vectors using PCA:"
      ],
      "metadata": {
        "id": "9zd_GiS4hK2B"
      }
    },
    {
      "cell_type": "code",
      "source": [
        "from sklearn.decomposition import PCA\n",
        "import matplotlib.pyplot as plt\n",
        "\n",
        "# Select a subset of words\n",
        "words = ['alice', 'rabbit', 'queen', 'king', 'wonderland', 'cat', 'tea']\n",
        "\n",
        "# Get the vectors for the selected words\n",
        "word_vectors = [model.wv[word] for word in words]\n",
        "\n",
        "# Reduce the dimensionality to 2D using PCA\n",
        "pca = PCA(n_components=2)\n",
        "word_vectors_2d = pca.fit_transform(word_vectors)\n",
        "\n",
        "# Plot the words in 2D space\n",
        "plt.figure(figsize=(8, 6))\n",
        "for i, word in enumerate(words):\n",
        "    plt.scatter(word_vectors_2d[i, 0], word_vectors_2d[i, 1])\n",
        "    plt.text(word_vectors_2d[i, 0] + 0.05, word_vectors_2d[i, 1] + 0.05, word, fontsize=12)\n",
        "plt.show()"
      ],
      "metadata": {
        "colab": {
          "base_uri": "https://localhost:8080/",
          "height": 740
        },
        "id": "dSjm-1L5fZnz",
        "outputId": "f6b92cb8-ff50-408e-8585-50a624112026"
      },
      "execution_count": 6,
      "outputs": [
        {
          "output_type": "display_data",
          "data": {
            "text/plain": [
              "<Figure size 800x600 with 1 Axes>"
            ],
            "image/png": "[encoded data removed]"
          },
          "metadata": {}
        }
      ]
    },
    {
      "cell_type": "markdown",
      "source": [
        "## 6. Saving and Loading the Model"
      ],
      "metadata": {
        "id": "IY97sOhuhQAS"
      }
    },
    {
      "cell_type": "markdown",
      "source": [
        "To save the model:"
      ],
      "metadata": {
        "id": "exECNsVYhR2g"
      }
    },
    {
      "cell_type": "code",
      "source": [
        "model.save('word2vec_model')"
      ],
      "metadata": {
        "id": "qIA16ONvhTSO"
      },
      "execution_count": null,
      "outputs": []
    },
    {
      "cell_type": "markdown",
      "source": [
        "To load a saved model:"
      ],
      "metadata": {
        "id": "y4e3T49JhUAJ"
      }
    },
    {
      "cell_type": "code",
      "source": [
        "from gensim.models import Word2Vec\n",
        "model = Word2Vec.load('word2vec_model')"
      ],
      "metadata": {
        "id": "b6tR8nbNhWnd"
      },
      "execution_count": null,
      "outputs": []
    },
    {
      "cell_type": "markdown",
      "source": [
        "## 7. Further Applications of Word2Vec"
      ],
      "metadata": {
        "id": "MQDz6LYmhZp4"
      }
    },
    {
      "cell_type": "markdown",
      "source": [
        "Word2Vec is powerful and has many applications, such as:\n",
        "\n",
        "* Text classification: Use word embeddings as input features for machine learning models.\n",
        "* Document similarity: Compare documents based on their word embeddings.\n",
        "* Question answering systems: Capture relationships between words to build smarter question-answering models."
      ],
      "metadata": {
        "id": "upS83svfhoc6"
      }
    },
    {
      "cell_type": "markdown",
      "source": [
        "# Skip-Gram and CBOW"
      ],
      "metadata": {
        "id": "w6sbTaSHjFhI"
      }
    },
    {
      "cell_type": "markdown",
      "source": [
        "Word2Vec can operate in two modes: CBOW (Continuous Bag of Words) and Skip-gram. The difference between the two lies in how they predict the target words from the context:\n",
        "\n",
        "* CBOW: Predicts the target word (center word) based on the context (surrounding words).\n",
        "* Skip-gram: Predicts the context (surrounding words) based on the target word (center word).\n",
        "\n",
        "Both methods aim to create word embeddings that capture semantic relationships between words, but they do so in opposite ways. CBOW tends to be faster and works better with small datasets, while Skip-gram performs well with large datasets and rare words."
      ],
      "metadata": {
        "id": "RgodcAI9jIPM"
      }
    },
    {
      "cell_type": "markdown",
      "source": [
        "## 1. CBOW Model Implementation"
      ],
      "metadata": {
        "id": "D6_wfTDTjOjq"
      }
    },
    {
      "cell_type": "markdown",
      "source": [
        "In Gensim, the CBOW model is the default mode for Word2Vec. To explicitly train the Word2Vec model using CBOW, set the `sg` parameter to `0`:"
      ],
      "metadata": {
        "id": "iCu8iNbLjQv3"
      }
    },
    {
      "cell_type": "code",
      "source": [
        "from gensim.models import Word2Vec\n",
        "\n",
        "# Train a CBOW Word2Vec model\n",
        "cbow_model = Word2Vec(sentences=tokenized_sentences, vector_size=100, window=5, min_count=2, workers=4, sg=0)\n",
        "\n",
        "# Summary of the model\n",
        "print(cbow_model)"
      ],
      "metadata": {
        "colab": {
          "base_uri": "https://localhost:8080/"
        },
        "id": "3UhtSuCnjdyG",
        "outputId": "ff0e12a9-e96b-4067-aed2-958466d76386"
      },
      "execution_count": 7,
      "outputs": [
        {
          "output_type": "stream",
          "name": "stdout",
          "text": [
            "Word2Vec<vocab=1548, vector_size=100, alpha=0.025>\n"
          ]
        }
      ]
    },
    {
      "cell_type": "markdown",
      "source": [
        "Here, `sg=0` specifies the CBOW model. The rest of the parameters are the same as explained earlier:\n",
        "\n",
        "* `vector_size`: Dimensionality of the word vectors.\n",
        "* `window`: The maximum distance between the current and predicted word.\n",
        "* `min_count`: Ignores all words with a frequency lower than this.\n",
        "* `workers`: Number of CPU cores used in training."
      ],
      "metadata": {
        "id": "aXd3Z7aBjgG4"
      }
    },
    {
      "cell_type": "markdown",
      "source": [
        "## 2. Skip-gram Model Implementation"
      ],
      "metadata": {
        "id": "AXfOfPQyj4zq"
      }
    },
    {
      "cell_type": "markdown",
      "source": [
        "For the Skip-gram model, set the `sg` parameter to `1`:"
      ],
      "metadata": {
        "id": "jwuBOB4vj749"
      }
    },
    {
      "cell_type": "code",
      "source": [
        "# Train a Skip-gram Word2Vec model\n",
        "skipgram_model = Word2Vec(sentences=tokenized_sentences, vector_size=100, window=5, min_count=2, workers=4, sg=1)\n",
        "\n",
        "# Summary of the model\n",
        "print(skipgram_model)\n"
      ],
      "metadata": {
        "colab": {
          "base_uri": "https://localhost:8080/"
        },
        "id": "opudgjIikFzq",
        "outputId": "b3d60745-a0c4-4917-cb22-2491233a5fd8"
      },
      "execution_count": 8,
      "outputs": [
        {
          "output_type": "stream",
          "name": "stdout",
          "text": [
            "Word2Vec<vocab=1548, vector_size=100, alpha=0.025>\n"
          ]
        }
      ]
    },
    {
      "cell_type": "markdown",
      "source": [
        "Setting `sg=1` tells Gensim to train the model using Skip-gram."
      ],
      "metadata": {
        "id": "u1tDlFJKkW3W"
      }
    },
    {
      "cell_type": "markdown",
      "source": [
        "## 3. Comparing CBOW and Skip-gram"
      ],
      "metadata": {
        "id": "V2g2Aev_koj9"
      }
    },
    {
      "cell_type": "markdown",
      "source": [
        "Now that both CBOW and Skip-gram models are trained, you can explore the differences between their word embeddings."
      ],
      "metadata": {
        "id": "0EqAk-Jokq-k"
      }
    },
    {
      "cell_type": "markdown",
      "source": [
        "### a. Finding Similar Words (CBOW vs. Skip-gram)\n",
        "Let’s compare the words most similar to “alice” using both models:"
      ],
      "metadata": {
        "id": "hKYo8zV3ksvI"
      }
    },
    {
      "cell_type": "code",
      "source": [
        "# Most similar words to 'alice' using CBOW\n",
        "cbow_similar_words = cbow_model.wv.most_similar('alice', topn=5)\n",
        "print(\"CBOW - Most similar to 'alice':\", cbow_similar_words)\n",
        "\n",
        "# Most similar words to 'alice' using Skip-gram\n",
        "skipgram_similar_words = skipgram_model.wv.most_similar('alice', topn=5)\n",
        "print(\"Skip-gram - Most similar to 'alice':\", skipgram_similar_words)"
      ],
      "metadata": {
        "colab": {
          "base_uri": "https://localhost:8080/"
        },
        "id": "BCkMFV2ikub0",
        "outputId": "7bd744b7-ce74-43bc-8f7f-f9e3e363acf8"
      },
      "execution_count": 9,
      "outputs": [
        {
          "output_type": "stream",
          "name": "stdout",
          "text": [
            "CBOW - Most similar to 'alice': [('and', 0.9997485876083374), ('or', 0.999728798866272), (':', 0.9997059106826782), ('that', 0.9997042417526245), ('for', 0.9996967315673828)]\n",
            "Skip-gram - Most similar to 'alice': [('thought', 0.9897785186767578), ('so', 0.9883779287338257), (\"'it\", 0.9876874089241028), ('hastily', 0.9875296354293823), ('rather', 0.9874232411384583)]\n"
          ]
        }
      ]
    },
    {
      "cell_type": "markdown",
      "source": [
        "Both models will return similar words based on their respective embeddings, but the results may differ slightly due to the different training mechanisms."
      ],
      "metadata": {
        "id": "3TVkiboDkwc9"
      }
    },
    {
      "cell_type": "markdown",
      "source": [
        "### b. Word Similarity (CBOW vs. Skip-gram)\n",
        "You can also compare how both models calculate the similarity between two words:"
      ],
      "metadata": {
        "id": "wz258tWbkxz7"
      }
    },
    {
      "cell_type": "code",
      "source": [
        "# Similarity between 'alice' and 'rabbit' using CBOW\n",
        "cbow_similarity = cbow_model.wv.similarity('alice', 'rabbit')\n",
        "print(f\"CBOW - Similarity between 'alice' and 'rabbit': {cbow_similarity}\")\n",
        "\n",
        "# Similarity between 'alice' and 'rabbit' using Skip-gram\n",
        "skipgram_similarity = skipgram_model.wv.similarity('alice', 'rabbit')\n",
        "print(f\"Skip-gram - Similarity between 'alice' and 'rabbit': {skipgram_similarity}\")"
      ],
      "metadata": {
        "colab": {
          "base_uri": "https://localhost:8080/"
        },
        "id": "yY0WbGuCkuvZ",
        "outputId": "c91ce268-9520-4b2d-ef73-920ba9224495"
      },
      "execution_count": 10,
      "outputs": [
        {
          "output_type": "stream",
          "name": "stdout",
          "text": [
            "CBOW - Similarity between 'alice' and 'rabbit': 0.999299943447113\n",
            "Skip-gram - Similarity between 'alice' and 'rabbit': 0.9651893973350525\n"
          ]
        }
      ]
    },
    {
      "cell_type": "markdown",
      "source": [
        "## 4. Evaluating the Models"
      ],
      "metadata": {
        "id": "lVPzwZ0ulXyK"
      }
    },
    {
      "cell_type": "markdown",
      "source": [
        "Once you've trained both CBOW and Skip-gram models, you can evaluate their performance based on various tasks such as word analogy or document similarity."
      ],
      "metadata": {
        "id": "W0h2n2KIlbfi"
      }
    },
    {
      "cell_type": "markdown",
      "source": [
        "### c. Word Analogy Example (CBOW vs. Skip-gram)\n",
        "Let’s test word analogy using both models. For example, “man is to king as woman is to ____”:"
      ],
      "metadata": {
        "id": "lXRdORhDlc63"
      }
    },
    {
      "cell_type": "code",
      "source": [
        "# Word analogy task using CBOW\n",
        "cbow_analogy = cbow_model.wv.most_similar(positive=['king', 'woman'], negative=['man'], topn=1)\n",
        "print(\"CBOW - Word analogy (man:king, woman:?):\", cbow_analogy)\n",
        "\n",
        "# Word analogy task using Skip-gram\n",
        "skipgram_analogy = skipgram_model.wv.most_similar(positive=['king', 'woman'], negative=['man'], topn=1)\n",
        "print(\"Skip-gram - Word analogy (man:king, woman:?):\", skipgram_analogy)"
      ],
      "metadata": {
        "colab": {
          "base_uri": "https://localhost:8080/"
        },
        "id": "mYbJqnYYk0Db",
        "outputId": "67b04b65-d8dd-4f9f-8a7a-a75bd88907e0"
      },
      "execution_count": 16,
      "outputs": [
        {
          "output_type": "stream",
          "name": "stdout",
          "text": [
            "CBOW - Word analogy (man:king, woman:?): [('grass', 0.7064976096153259)]\n",
            "Skip-gram - Word analogy (man:king, woman:?): [('dormouse', 0.9920663237571716)]\n"
          ]
        }
      ]
    },
    {
      "cell_type": "markdown",
      "source": [
        "The results of the word analogy tasks using CBOW and Skip-gram are interesting, but they seem a bit off compared to the expected result (where typically, \"queen\" would be a better analogy for \"king\n",
        "\" when \"man\" is removed).\n",
        "\n",
        "There could be several reasons why these results occurred:\n",
        "\n",
        "1. **Training Data**: The model was trained on a small dataset (`Alice in Wonderland`), which may not have enough diverse examples of gendered or royal terms (like \"king\" and \"queen\"). The book's vocabulary and context might not align with the word analogy task you're performing.\n",
        "\n",
        "2. **Limited Vocabulary**: Since the corpus doesn't have a wide variety of concepts related to royalty or gender, words like \"grass\" or \"dormouse\" (which are more frequent in the text) might surface as high-ranking results.\n",
        "\n",
        "3. **Model Size**: The vector_size parameter (100 in this case) could also influence the quality of the embeddings. If the embeddings do not capture enough semantic information, unexpected words might show up."
      ],
      "metadata": {
        "id": "05bJr0u9pJgy"
      }
    },
    {
      "cell_type": "markdown",
      "source": [
        "## 5. When to Use CBOW or Skip-gram?"
      ],
      "metadata": {
        "id": "2rOl-Q3Ul3_d"
      }
    },
    {
      "cell_type": "markdown",
      "source": [
        "* CBOW:\n",
        "\n",
        "  * Faster and works well with smaller datasets.\n",
        "  * Better for frequent words.\n",
        "  * Good for tasks where you care about the context predicting the word.\n",
        "\n",
        "* Skip-gram:\n",
        "\n",
        "  * Slower, but performs better on larger datasets.\n",
        "  * Works better with rare words.\n",
        "  * Good for tasks where you want to predict the context from the word."
      ],
      "metadata": {
        "id": "S2SpkWB-mTo8"
      }
    },
    {
      "cell_type": "markdown",
      "source": [
        "## 6. Saving and Loading Models"
      ],
      "metadata": {
        "id": "EdM3ywaCmOv1"
      }
    },
    {
      "cell_type": "markdown",
      "source": [
        "If you want to save and load either the CBOW or Skip-gram models for later use:"
      ],
      "metadata": {
        "id": "qb5OXyhnmRxh"
      }
    },
    {
      "cell_type": "code",
      "source": [
        "# Save models\n",
        "cbow_model.save('cbow_model')\n",
        "skipgram_model.save('skipgram_model')\n",
        "\n",
        "# Load models\n",
        "cbow_model = Word2Vec.load('cbow_model')\n",
        "skipgram_model = Word2Vec.load('skipgram_model')"
      ],
      "metadata": {
        "id": "lGcIkSwMlxCy"
      },
      "execution_count": 12,
      "outputs": []
    }
  ]
}